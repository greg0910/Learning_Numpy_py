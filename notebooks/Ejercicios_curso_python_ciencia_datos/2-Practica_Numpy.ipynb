{
  "cells": [
    {
      "cell_type": "markdown",
      "metadata": {
        "id": "1MRNIJUZIsKz"
      },
      "source": [
        "# [PRACTICA DE NUMPY](https://joserzapata.github.io/courses/python-ciencia-datos/numpy/)\n",
        "## [Curso Python para Ciencia de datos](https://joserzapata.github.io/courses/python-ciencia-datos/)\n",
        "### Por Jose R. Zapata - https://joserzapata.github.io/"
      ]
    },
    {
      "cell_type": "markdown",
      "metadata": {
        "id": "j-QYR7hAIsK0"
      },
      "source": [
        "<div class=\"alert alert-success\">\n",
        "\n",
        "<b>NOTA:</b> Realizar Primero los ejercicios y luego revisar las soluciones propuestas.\n",
        "\n",
        "[Solucion Ejercicios Numpy - click para abrir](https://joserzapata.github.io/courses/python-ciencia-datos/numpy/2-practica_numpy-solucion/)\n",
        "\n",
        "</div>"
      ]
    },
    {
      "cell_type": "markdown",
      "metadata": {
        "id": "Nlyoo_CfIsK2"
      },
      "source": [
        "Los arreglos de numpy son la base de la computación científica en Python\n",
        "- los dataframes de pandas para análisis de datos (Numpy era la unica base hasta pandas 1.5.3)\n",
        "- los datos de entrada o salida para hacer Machine Learning con scikit-learn son arreglos de numpy\n",
        "\n",
        "**Nota:** Es importante familiarizarse con el manejo de arreglos de numpy para poder hacer ciencia de datos con Python e identificar cuando usar un arreglo de numpy o un dataframe de pandas."
      ]
    },
    {
      "cell_type": "markdown",
      "metadata": {
        "id": "WxxgkijLIsK2"
      },
      "source": [
        "**Importe NumPy como np**"
      ]
    },
    {
      "cell_type": "code",
      "execution_count": 1,
      "metadata": {
        "collapsed": true,
        "id": "KAV_Zu9UIsK3"
      },
      "outputs": [],
      "source": [
        "import numpy as np"
      ]
    },
    {
      "cell_type": "markdown",
      "metadata": {
        "id": "N9DbttdjIsK4"
      },
      "source": [
        "**Cree un arreglo de ceros de 10 elementos**"
      ]
    },
    {
      "cell_type": "code",
      "execution_count": 2,
      "metadata": {
        "id": "g_yIDZ2LIsK5"
      },
      "outputs": [],
      "source": [
        "# Copie su código aqui"
      ]
    },
    {
      "cell_type": "code",
      "execution_count": 4,
      "metadata": {
        "id": "-5J3Hh-PIsK7",
        "outputId": "191d798a-478f-404e-924a-1449bbc0f227",
        "colab": {
          "base_uri": "https://localhost:8080/"
        }
      },
      "outputs": [
        {
          "output_type": "stream",
          "name": "stdout",
          "text": [
            "[0. 0. 0. 0. 0. 0. 0. 0. 0. 0.]\n"
          ]
        }
      ],
      "source": [
        "arr = np.zeros(10)\n",
        "print(arr)"
      ]
    },
    {
      "cell_type": "markdown",
      "metadata": {
        "id": "jb_xzWl6IsK8"
      },
      "source": [
        "**Cree un arreglo de unos de 10 elementos**"
      ]
    },
    {
      "cell_type": "code",
      "execution_count": null,
      "metadata": {
        "id": "gHQ__uSoIsK9"
      },
      "outputs": [],
      "source": [
        "# Copie su código aqui"
      ]
    },
    {
      "cell_type": "code",
      "execution_count": 5,
      "metadata": {
        "id": "jsssAW2uIsK-",
        "outputId": "4ed1f958-d3cb-44f3-fa21-435ef2226052",
        "colab": {
          "base_uri": "https://localhost:8080/"
        }
      },
      "outputs": [
        {
          "output_type": "stream",
          "name": "stdout",
          "text": [
            "[1. 1. 1. 1. 1. 1. 1. 1. 1. 1.]\n"
          ]
        }
      ],
      "source": [
        "arr = np.ones(10)\n",
        "print(arr)"
      ]
    },
    {
      "cell_type": "markdown",
      "metadata": {
        "id": "-RdriKB8IsK-"
      },
      "source": [
        "**Cree un arreglo de cincos de 10 elementos**"
      ]
    },
    {
      "cell_type": "code",
      "execution_count": null,
      "metadata": {
        "id": "s8Ksq5P0IsK-"
      },
      "outputs": [],
      "source": [
        "# Copie su código aqui"
      ]
    },
    {
      "cell_type": "code",
      "execution_count": null,
      "metadata": {
        "id": "Dtz3842hIsK_",
        "outputId": "80b63a23-8dcd-4106-bff4-d1a90374160f"
      },
      "outputs": [
        {
          "data": {
            "text/plain": [
              "array([5., 5., 5., 5., 5., 5., 5., 5., 5., 5.])"
            ]
          },
          "execution_count": 7,
          "metadata": {},
          "output_type": "execute_result"
        }
      ],
      "source": []
    },
    {
      "cell_type": "markdown",
      "metadata": {
        "id": "aP3EMCMsIsK_"
      },
      "source": [
        "**Cree un arreglo de números enteros Del 10 al 50 (incluido)**"
      ]
    },
    {
      "cell_type": "code",
      "execution_count": null,
      "metadata": {
        "id": "1uuaYEl3IsK_"
      },
      "outputs": [],
      "source": [
        "# Copie su código aqui"
      ]
    },
    {
      "cell_type": "code",
      "execution_count": null,
      "metadata": {
        "id": "ODHH4nB0IsK_",
        "outputId": "5509baa8-2427-4914-f6b8-b78c4f93c4d9"
      },
      "outputs": [
        {
          "data": {
            "text/plain": [
              "array([10, 11, 12, 13, 14, 15, 16, 17, 18, 19, 20, 21, 22, 23, 24, 25, 26,\n",
              "       27, 28, 29, 30, 31, 32, 33, 34, 35, 36, 37, 38, 39, 40, 41, 42, 43,\n",
              "       44, 45, 46, 47, 48, 49, 50])"
            ]
          },
          "execution_count": 9,
          "metadata": {},
          "output_type": "execute_result"
        }
      ],
      "source": []
    },
    {
      "cell_type": "markdown",
      "metadata": {
        "id": "gxxhfo4zIsLA"
      },
      "source": [
        "**Cree un arreglo de los números enteros pares Del 10 al 50 (incluidos)**"
      ]
    },
    {
      "cell_type": "code",
      "execution_count": null,
      "metadata": {
        "id": "oh2sMkAAIsLA"
      },
      "outputs": [],
      "source": [
        "# Copie su código aqui"
      ]
    },
    {
      "cell_type": "code",
      "execution_count": null,
      "metadata": {
        "id": "mziokAvBIsLA",
        "outputId": "fc7770f1-77d4-470e-ad0f-f75a18fc2ecb"
      },
      "outputs": [
        {
          "data": {
            "text/plain": [
              "array([10, 12, 14, 16, 18, 20, 22, 24, 26, 28, 30, 32, 34, 36, 38, 40, 42,\n",
              "       44, 46, 48, 50])"
            ]
          },
          "execution_count": 11,
          "metadata": {},
          "output_type": "execute_result"
        }
      ],
      "source": []
    },
    {
      "cell_type": "markdown",
      "metadata": {
        "id": "a5j_Jy_6IsLA"
      },
      "source": [
        "**Crear una matrix de 3x3 con valores del 0 al 8 (incluido)**"
      ]
    },
    {
      "cell_type": "code",
      "execution_count": null,
      "metadata": {
        "id": "dAtOcqcxIsLA"
      },
      "outputs": [],
      "source": [
        "# Copie su código aqui"
      ]
    },
    {
      "cell_type": "code",
      "execution_count": null,
      "metadata": {
        "id": "Z7Jmg28RIsLB",
        "outputId": "df508517-c94c-400d-d6ad-7dcd0d7947a3"
      },
      "outputs": [
        {
          "data": {
            "text/plain": [
              "array([[0, 1, 2],\n",
              "       [3, 4, 5],\n",
              "       [6, 7, 8]])"
            ]
          },
          "execution_count": 13,
          "metadata": {},
          "output_type": "execute_result"
        }
      ],
      "source": []
    },
    {
      "cell_type": "markdown",
      "metadata": {
        "id": "FDaPmkJ5IsLB"
      },
      "source": [
        "**Crear la matriz identidad de 3x3**"
      ]
    },
    {
      "cell_type": "code",
      "execution_count": null,
      "metadata": {
        "id": "Bb0_bns2IsLB"
      },
      "outputs": [],
      "source": [
        "# Copie su código aqui"
      ]
    },
    {
      "cell_type": "code",
      "execution_count": null,
      "metadata": {
        "id": "74QZmS_SIsLB",
        "outputId": "dde8611c-b8ef-4b78-9a75-5c2e770c1055"
      },
      "outputs": [
        {
          "data": {
            "text/plain": [
              "array([[1., 0., 0.],\n",
              "       [0., 1., 0.],\n",
              "       [0., 0., 1.]])"
            ]
          },
          "execution_count": 15,
          "metadata": {},
          "output_type": "execute_result"
        }
      ],
      "source": []
    },
    {
      "cell_type": "markdown",
      "metadata": {
        "id": "Y3I8_G4kIsLC"
      },
      "source": [
        "**Use NumPy para generar un numero aleatorio entre 0 y 1**"
      ]
    },
    {
      "cell_type": "code",
      "execution_count": null,
      "metadata": {
        "id": "-mYZwFTZIsLC"
      },
      "outputs": [],
      "source": [
        "# Copie su código aqui"
      ]
    },
    {
      "cell_type": "code",
      "execution_count": null,
      "metadata": {
        "id": "j6fSrpOLIsLC",
        "outputId": "01c45a7b-4b7c-43a6-aaad-06d9978400f3"
      },
      "outputs": [
        {
          "data": {
            "text/plain": [
              "array([0.2369713])"
            ]
          },
          "execution_count": 17,
          "metadata": {},
          "output_type": "execute_result"
        }
      ],
      "source": []
    },
    {
      "cell_type": "markdown",
      "metadata": {
        "id": "Vtw0qE5RIsLC"
      },
      "source": [
        "**Use NumPy para generar un arreglo de 25 números aleatorios que sean de la distribucion normal estandar**"
      ]
    },
    {
      "cell_type": "code",
      "execution_count": null,
      "metadata": {
        "id": "VcoIorr3IsLC"
      },
      "outputs": [],
      "source": [
        "# Copie su código aqui"
      ]
    },
    {
      "cell_type": "code",
      "execution_count": null,
      "metadata": {
        "id": "OIAlXJu5IsLD",
        "outputId": "fb11aac3-05dc-403b-ed0d-72184b4f8bf5"
      },
      "outputs": [
        {
          "data": {
            "text/plain": [
              "array([-1.82518925,  0.35985968,  0.7908014 ,  1.09115394, -1.18145353,\n",
              "       -0.38358405, -0.1049287 ,  1.27313964,  0.05365275, -0.63835531,\n",
              "        0.4984666 , -1.60464831, -0.84688945,  0.4695778 ,  1.73142269,\n",
              "       -1.63808225, -0.67171648, -0.14015625,  0.50828476,  0.60145966,\n",
              "       -0.34493194,  0.09632452, -0.85907492, -0.46924336,  1.22406872])"
            ]
          },
          "execution_count": 19,
          "metadata": {},
          "output_type": "execute_result"
        }
      ],
      "source": []
    },
    {
      "cell_type": "markdown",
      "metadata": {
        "id": "j6BtnqnoIsLD"
      },
      "source": [
        "**Cree un arreglo de 20 elementos linealmente espaciados entre 0 y 1:**"
      ]
    },
    {
      "cell_type": "code",
      "execution_count": null,
      "metadata": {
        "id": "wxLXXpPpIsLD"
      },
      "outputs": [],
      "source": [
        "# Copie su código aqui"
      ]
    },
    {
      "cell_type": "code",
      "execution_count": null,
      "metadata": {
        "id": "qJvd9a7SIsLD",
        "outputId": "bcb0f426-8778-4c89-bd84-488e89d38a63"
      },
      "outputs": [
        {
          "data": {
            "text/plain": [
              "array([0.        , 0.05263158, 0.10526316, 0.15789474, 0.21052632,\n",
              "       0.26315789, 0.31578947, 0.36842105, 0.42105263, 0.47368421,\n",
              "       0.52631579, 0.57894737, 0.63157895, 0.68421053, 0.73684211,\n",
              "       0.78947368, 0.84210526, 0.89473684, 0.94736842, 1.        ])"
            ]
          },
          "execution_count": 21,
          "metadata": {},
          "output_type": "execute_result"
        }
      ],
      "source": []
    },
    {
      "cell_type": "markdown",
      "metadata": {
        "id": "2-neaGqYIsLD"
      },
      "source": [
        "**Indexacion y seleccion con Numpy**\n",
        "\n",
        "Crear una matriz con numeros del 1 al 25 y que tenga forma de 5x5\n",
        "\n"
      ]
    },
    {
      "cell_type": "code",
      "execution_count": null,
      "metadata": {
        "id": "x_09cTvPIsLE"
      },
      "outputs": [],
      "source": [
        "# Copie su código aqui\n"
      ]
    },
    {
      "cell_type": "code",
      "execution_count": null,
      "metadata": {
        "id": "Y6fS8kAXIsLE",
        "outputId": "e5c382db-9143-4dba-aa24-410432877b62"
      },
      "outputs": [
        {
          "data": {
            "text/plain": [
              "array([[ 1,  2,  3,  4,  5],\n",
              "       [ 6,  7,  8,  9, 10],\n",
              "       [11, 12, 13, 14, 15],\n",
              "       [16, 17, 18, 19, 20],\n",
              "       [21, 22, 23, 24, 25]])"
            ]
          },
          "execution_count": 23,
          "metadata": {},
          "output_type": "execute_result"
        }
      ],
      "source": []
    },
    {
      "cell_type": "markdown",
      "metadata": {
        "id": "GbBYMFH1IsLE"
      },
      "source": [
        "replique los resultados que siguen:\n"
      ]
    },
    {
      "cell_type": "code",
      "execution_count": null,
      "metadata": {
        "id": "RXycwvW2IsLQ"
      },
      "outputs": [],
      "source": [
        "# Copie su código aqui"
      ]
    },
    {
      "cell_type": "code",
      "execution_count": null,
      "metadata": {
        "collapsed": true,
        "id": "lgMNPxfXIsLR",
        "outputId": "aad71932-7cd5-4a22-e4f6-b45d746f11aa"
      },
      "outputs": [
        {
          "data": {
            "text/plain": [
              "array([[12, 13, 14, 15],\n",
              "       [17, 18, 19, 20],\n",
              "       [22, 23, 24, 25]])"
            ]
          },
          "execution_count": 25,
          "metadata": {},
          "output_type": "execute_result"
        }
      ],
      "source": []
    },
    {
      "cell_type": "code",
      "execution_count": null,
      "metadata": {
        "id": "6sOVTBuPIsLR"
      },
      "outputs": [],
      "source": [
        "# Copie su código aqui"
      ]
    },
    {
      "cell_type": "code",
      "execution_count": null,
      "metadata": {
        "collapsed": true,
        "id": "A7nDUxw2IsLR",
        "outputId": "326832cc-c391-4ca6-fa8f-cd62257435dc"
      },
      "outputs": [
        {
          "data": {
            "text/plain": [
              "20"
            ]
          },
          "execution_count": 27,
          "metadata": {},
          "output_type": "execute_result"
        }
      ],
      "source": []
    },
    {
      "cell_type": "code",
      "execution_count": null,
      "metadata": {
        "id": "js8bDWPpIsLS"
      },
      "outputs": [],
      "source": [
        "# Copie su código aqui"
      ]
    },
    {
      "cell_type": "code",
      "execution_count": null,
      "metadata": {
        "collapsed": true,
        "id": "n2h4QPDLIsLS",
        "outputId": "a014813f-3697-42dc-f84b-e4a43aef3678"
      },
      "outputs": [
        {
          "data": {
            "text/plain": [
              "array([[ 2],\n",
              "       [ 7],\n",
              "       [12]])"
            ]
          },
          "execution_count": 29,
          "metadata": {},
          "output_type": "execute_result"
        }
      ],
      "source": []
    },
    {
      "cell_type": "code",
      "execution_count": null,
      "metadata": {
        "id": "bxKMwBVqIsLS"
      },
      "outputs": [],
      "source": [
        "# Copie su código aqui"
      ]
    },
    {
      "cell_type": "code",
      "execution_count": null,
      "metadata": {
        "collapsed": true,
        "id": "dLiZ2r0VIsLS",
        "outputId": "ed89b870-aba0-47ee-b485-f4036c56a73a"
      },
      "outputs": [
        {
          "data": {
            "text/plain": [
              "array([21, 22, 23, 24, 25])"
            ]
          },
          "execution_count": 31,
          "metadata": {},
          "output_type": "execute_result"
        }
      ],
      "source": []
    },
    {
      "cell_type": "code",
      "execution_count": null,
      "metadata": {
        "id": "jd_dbAMDIsLS"
      },
      "outputs": [],
      "source": [
        "# Copie su código aqui"
      ]
    },
    {
      "cell_type": "code",
      "execution_count": null,
      "metadata": {
        "collapsed": true,
        "id": "2t0WHMPKIsLT",
        "outputId": "2f8c18f4-6b47-4d83-8e72-8ccd58b193e0"
      },
      "outputs": [
        {
          "data": {
            "text/plain": [
              "array([[16, 17, 18, 19, 20],\n",
              "       [21, 22, 23, 24, 25]])"
            ]
          },
          "execution_count": 33,
          "metadata": {},
          "output_type": "execute_result"
        }
      ],
      "source": []
    },
    {
      "cell_type": "markdown",
      "metadata": {
        "id": "s-IIdi8IIsLT"
      },
      "source": [
        "**Obtenga la suma de todos los valores de la matriz**"
      ]
    },
    {
      "cell_type": "code",
      "execution_count": null,
      "metadata": {
        "id": "GdzsCRoNIsLT"
      },
      "outputs": [],
      "source": [
        "# Copie su código aqui"
      ]
    },
    {
      "cell_type": "code",
      "execution_count": null,
      "metadata": {
        "id": "FZtxz7MeIsLT",
        "outputId": "7b475100-3d6c-428e-afcc-9ff3da69fab6"
      },
      "outputs": [
        {
          "data": {
            "text/plain": [
              "325"
            ]
          },
          "execution_count": 35,
          "metadata": {},
          "output_type": "execute_result"
        }
      ],
      "source": []
    },
    {
      "cell_type": "markdown",
      "metadata": {
        "id": "Jd8_zNuQIsLT"
      },
      "source": [
        "**Obtenga la desviación estándar de los valores de la matriz**"
      ]
    },
    {
      "cell_type": "code",
      "execution_count": null,
      "metadata": {
        "id": "Y3bMVN5wIsLU"
      },
      "outputs": [],
      "source": [
        "# Copie su código aqui"
      ]
    },
    {
      "cell_type": "code",
      "execution_count": null,
      "metadata": {
        "id": "FYmRPl3XIsLU",
        "outputId": "07373dec-8946-4de8-a9b5-1391f031bd50"
      },
      "outputs": [
        {
          "data": {
            "text/plain": [
              "7.211102550927978"
            ]
          },
          "execution_count": 37,
          "metadata": {},
          "output_type": "execute_result"
        }
      ],
      "source": []
    },
    {
      "cell_type": "markdown",
      "metadata": {
        "id": "qXIi9puRIsLU"
      },
      "source": [
        "**Obtener la suma de cada una de las columnas de la matriz**"
      ]
    },
    {
      "cell_type": "code",
      "execution_count": null,
      "metadata": {
        "id": "ib20nMTNIsLU"
      },
      "outputs": [],
      "source": [
        "# Copie su código aqui"
      ]
    },
    {
      "cell_type": "code",
      "execution_count": null,
      "metadata": {
        "id": "Oe9gyZa_IsLU",
        "outputId": "5a72c923-aaf0-453d-c647-d1b01eb74162"
      },
      "outputs": [
        {
          "data": {
            "text/plain": [
              "array([55, 60, 65, 70, 75])"
            ]
          },
          "execution_count": 39,
          "metadata": {},
          "output_type": "execute_result"
        }
      ],
      "source": []
    },
    {
      "cell_type": "markdown",
      "metadata": {
        "id": "UcdXTaugIsLV"
      },
      "source": [
        "## Referencia\n",
        "\n",
        "https://joserzapata.github.io/courses/python-ciencia-datos/numpy/"
      ]
    }
  ],
  "metadata": {
    "kernelspec": {
      "display_name": "Python 3",
      "language": "python",
      "name": "python3"
    },
    "language_info": {
      "codemirror_mode": {
        "name": "ipython",
        "version": 3
      },
      "file_extension": ".py",
      "mimetype": "text/x-python",
      "name": "python",
      "nbconvert_exporter": "python",
      "pygments_lexer": "ipython3",
      "version": "3.10.13"
    },
    "toc": {
      "base_numbering": 1,
      "nav_menu": {},
      "number_sections": true,
      "sideBar": true,
      "skip_h1_title": false,
      "title_cell": "Contenido",
      "title_sidebar": "Contenido",
      "toc_cell": true,
      "toc_position": {},
      "toc_section_display": true,
      "toc_window_display": false
    },
    "varInspector": {
      "cols": {
        "lenName": 16,
        "lenType": 16,
        "lenVar": 40
      },
      "kernels_config": {
        "python": {
          "delete_cmd_postfix": "",
          "delete_cmd_prefix": "del ",
          "library": "var_list.py",
          "varRefreshCmd": "print(var_dic_list())"
        },
        "r": {
          "delete_cmd_postfix": ") ",
          "delete_cmd_prefix": "rm(",
          "library": "var_list.r",
          "varRefreshCmd": "cat(var_dic_list()) "
        }
      },
      "types_to_exclude": [
        "module",
        "function",
        "builtin_function_or_method",
        "instance",
        "_Feature"
      ],
      "window_display": false
    },
    "colab": {
      "provenance": []
    }
  },
  "nbformat": 4,
  "nbformat_minor": 0
}