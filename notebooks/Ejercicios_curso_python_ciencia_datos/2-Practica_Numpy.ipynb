{
  "cells": [
    {
      "cell_type": "markdown",
      "metadata": {
        "id": "nMihlTZiOVsu"
      },
      "source": [
        "# [PRACTICA DE NUMPY](https://joserzapata.github.io/courses/python-ciencia-datos/numpy/)\n",
        "## [Curso Python para Ciencia de datos](https://joserzapata.github.io/courses/python-ciencia-datos/)\n",
        "### Por Jose R. Zapata - https://joserzapata.github.io/"
      ]
    },
    {
      "cell_type": "markdown",
      "metadata": {
        "id": "tfvtIXILOVsw"
      },
      "source": [
        "<div class=\"alert alert-success\">\n",
        "\n",
        "<b>NOTA:</b> Realizar Primero los ejercicios y luego revisar las soluciones propuestas.\n",
        "\n",
        "[Solucion Ejercicios Numpy - click para abrir](https://joserzapata.github.io/courses/python-ciencia-datos/numpy/2-practica_numpy-solucion/)\n",
        "\n",
        "</div>"
      ]
    },
    {
      "cell_type": "markdown",
      "metadata": {
        "id": "29KBvvElOVsx"
      },
      "source": [
        "Los arreglos de numpy son la base de la computación científica en Python\n",
        "- los dataframes de pandas para análisis de datos (Numpy era la unica base hasta pandas 1.5.3)\n",
        "- los datos de entrada o salida para hacer Machine Learning con scikit-learn son arreglos de numpy\n",
        "\n",
        "**Nota:** Es importante familiarizarse con el manejo de arreglos de numpy para poder hacer ciencia de datos con Python e identificar cuando usar un arreglo de numpy o un dataframe de pandas."
      ]
    },
    {
      "cell_type": "markdown",
      "metadata": {
        "id": "qx6sUV9MOVsy"
      },
      "source": [
        "**Importe NumPy como np**"
      ]
    },
    {
      "cell_type": "code",
      "execution_count": 6,
      "metadata": {
        "collapsed": true,
        "id": "-eZkmlePOVsz"
      },
      "outputs": [],
      "source": [
        "import numpy as np"
      ]
    },
    {
      "cell_type": "markdown",
      "metadata": {
        "id": "xu5CkVhlOVsz"
      },
      "source": [
        "**Cree un arreglo de ceros de 10 elementos**"
      ]
    },
    {
      "cell_type": "code",
      "execution_count": null,
      "metadata": {
        "id": "UeyxPCZTOVs0"
      },
      "outputs": [],
      "source": [
        "# Copie su código aqui"
      ]
    },
    {
      "cell_type": "code",
      "execution_count": 11,
      "metadata": {
        "colab": {
          "base_uri": "https://localhost:8080/"
        },
        "id": "d68AveabOVs1",
        "outputId": "2c3103ea-b7ee-4512-a281-60f4c0348bee"
      },
      "outputs": [
        {
          "output_type": "stream",
          "name": "stdout",
          "text": [
            "[0. 0. 0. 0. 0. 0. 0. 0. 0. 0.]\n"
          ]
        }
      ],
      "source": [
        "arr = np.zeros(10)\n",
        "print(arr)"
      ]
    },
    {
      "cell_type": "markdown",
      "metadata": {
        "id": "x_8bugxOOVs2"
      },
      "source": [
        "**Cree un arreglo de unos de 10 elementos**"
      ]
    },
    {
      "cell_type": "code",
      "execution_count": null,
      "metadata": {
        "id": "OEXvtPBGOVs2"
      },
      "outputs": [],
      "source": [
        "# Copie su código aqui"
      ]
    },
    {
      "cell_type": "code",
      "execution_count": 12,
      "metadata": {
        "colab": {
          "base_uri": "https://localhost:8080/"
        },
        "id": "XUGFAMEDOVs2",
        "outputId": "a77b0947-5f55-4d5c-a915-b49e132a8251"
      },
      "outputs": [
        {
          "output_type": "stream",
          "name": "stdout",
          "text": [
            "[1. 1. 1. 1. 1. 1. 1. 1. 1. 1.]\n"
          ]
        }
      ],
      "source": [
        "arr = np.ones(10)\n",
        "print(arr)"
      ]
    },
    {
      "cell_type": "markdown",
      "metadata": {
        "id": "NvBdoT-IOVs3"
      },
      "source": [
        "**Cree un arreglo de cincos de 10 elementos**"
      ]
    },
    {
      "cell_type": "code",
      "execution_count": null,
      "metadata": {
        "id": "iY8LdV0eOVs3"
      },
      "outputs": [],
      "source": [
        "# Copie su código aqui"
      ]
    },
    {
      "cell_type": "code",
      "execution_count": 13,
      "metadata": {
        "colab": {
          "base_uri": "https://localhost:8080/"
        },
        "id": "USiEHah1OVs4",
        "outputId": "f6a55d60-972e-42c0-fb0e-7baac740b469"
      },
      "outputs": [
        {
          "output_type": "stream",
          "name": "stdout",
          "text": [
            "[5. 5. 5. 5. 5. 5. 5. 5. 5. 5.]\n"
          ]
        }
      ],
      "source": [
        "arr = np.ones(10)*5\n",
        "print(arr)"
      ]
    },
    {
      "cell_type": "markdown",
      "metadata": {
        "id": "ZYk6NiLzOVs4"
      },
      "source": [
        "**Cree un arreglo de números enteros Del 10 al 50 (incluido)**"
      ]
    },
    {
      "cell_type": "code",
      "execution_count": null,
      "metadata": {
        "id": "nqzEBidnOVs4"
      },
      "outputs": [],
      "source": [
        "# Copie su código aqui"
      ]
    },
    {
      "cell_type": "code",
      "execution_count": 14,
      "metadata": {
        "colab": {
          "base_uri": "https://localhost:8080/"
        },
        "id": "v80bqbreOVs4",
        "outputId": "3c347c04-5c1e-441a-9c11-2f04048d9a45"
      },
      "outputs": [
        {
          "output_type": "stream",
          "name": "stdout",
          "text": [
            "[10 11 12 13 14 15 16 17 18 19 20 21 22 23 24 25 26 27 28 29 30 31 32 33\n",
            " 34 35 36 37 38 39 40 41 42 43 44 45 46 47 48 49 50]\n"
          ]
        }
      ],
      "source": [
        "arr = np.arange(10,51)\n",
        "print(arr)"
      ]
    },
    {
      "cell_type": "markdown",
      "metadata": {
        "id": "RNFks6LqOVs5"
      },
      "source": [
        "**Cree un arreglo de los números enteros pares Del 10 al 50 (incluidos)**"
      ]
    },
    {
      "cell_type": "code",
      "execution_count": null,
      "metadata": {
        "id": "2Tnyq8U0OVs5"
      },
      "outputs": [],
      "source": [
        "# Copie su código aqui"
      ]
    },
    {
      "cell_type": "code",
      "execution_count": 15,
      "metadata": {
        "colab": {
          "base_uri": "https://localhost:8080/"
        },
        "id": "wMYyqAVBOVs5",
        "outputId": "a976c914-1f6b-4cf2-8030-eac21fb6ec1b"
      },
      "outputs": [
        {
          "output_type": "stream",
          "name": "stdout",
          "text": [
            "[10 12 14 16 18 20 22 24 26 28 30 32 34 36 38 40 42 44 46 48 50]\n"
          ]
        }
      ],
      "source": [
        "arr = np.arange(10,51,2)\n",
        "print(arr)"
      ]
    },
    {
      "cell_type": "markdown",
      "metadata": {
        "id": "dOa9LOqWOVs5"
      },
      "source": [
        "**Crear una matrix de 3x3 con valores del 0 al 8 (incluido)**"
      ]
    },
    {
      "cell_type": "code",
      "execution_count": null,
      "metadata": {
        "id": "iwPxvCTvOVs5"
      },
      "outputs": [],
      "source": [
        "# Copie su código aqui"
      ]
    },
    {
      "cell_type": "code",
      "execution_count": null,
      "metadata": {
        "id": "uut_LRYqOVs5",
        "outputId": "95e05524-3836-48ed-d291-71737d20badf"
      },
      "outputs": [
        {
          "data": {
            "text/plain": [
              "array([[0, 1, 2],\n",
              "       [3, 4, 5],\n",
              "       [6, 7, 8]])"
            ]
          },
          "execution_count": 13,
          "metadata": {},
          "output_type": "execute_result"
        }
      ],
      "source": []
    },
    {
      "cell_type": "markdown",
      "metadata": {
        "id": "g6btOkKpOVs5"
      },
      "source": [
        "**Crear la matriz identidad de 3x3**"
      ]
    },
    {
      "cell_type": "code",
      "execution_count": null,
      "metadata": {
        "id": "NhH_IU3qOVs6"
      },
      "outputs": [],
      "source": [
        "# Copie su código aqui"
      ]
    },
    {
      "cell_type": "code",
      "execution_count": null,
      "metadata": {
        "id": "9yByQtiPOVs6",
        "outputId": "37537a9f-c6e6-4606-de6b-37011dfd3408"
      },
      "outputs": [
        {
          "data": {
            "text/plain": [
              "array([[1., 0., 0.],\n",
              "       [0., 1., 0.],\n",
              "       [0., 0., 1.]])"
            ]
          },
          "execution_count": 15,
          "metadata": {},
          "output_type": "execute_result"
        }
      ],
      "source": []
    },
    {
      "cell_type": "markdown",
      "metadata": {
        "id": "L1RKsb6JOVs6"
      },
      "source": [
        "**Use NumPy para generar un numero aleatorio entre 0 y 1**"
      ]
    },
    {
      "cell_type": "code",
      "execution_count": null,
      "metadata": {
        "id": "MR-56cjTOVs6"
      },
      "outputs": [],
      "source": [
        "# Copie su código aqui"
      ]
    },
    {
      "cell_type": "code",
      "execution_count": null,
      "metadata": {
        "id": "C9GWrcEsOVs6",
        "outputId": "e530e8cc-f3dd-47df-9feb-30fa383927e8"
      },
      "outputs": [
        {
          "data": {
            "text/plain": [
              "array([0.2369713])"
            ]
          },
          "execution_count": 17,
          "metadata": {},
          "output_type": "execute_result"
        }
      ],
      "source": []
    },
    {
      "cell_type": "markdown",
      "metadata": {
        "id": "8U3hIBEVOVs6"
      },
      "source": [
        "**Use NumPy para generar un arreglo de 25 números aleatorios que sean de la distribucion normal estandar**"
      ]
    },
    {
      "cell_type": "code",
      "execution_count": null,
      "metadata": {
        "id": "htPU8UriOVs6"
      },
      "outputs": [],
      "source": [
        "# Copie su código aqui"
      ]
    },
    {
      "cell_type": "code",
      "execution_count": null,
      "metadata": {
        "id": "-JjyJqmrOVs7",
        "outputId": "7bac975a-dc16-4fb7-ca3f-29cd1cbf262d"
      },
      "outputs": [
        {
          "data": {
            "text/plain": [
              "array([-1.82518925,  0.35985968,  0.7908014 ,  1.09115394, -1.18145353,\n",
              "       -0.38358405, -0.1049287 ,  1.27313964,  0.05365275, -0.63835531,\n",
              "        0.4984666 , -1.60464831, -0.84688945,  0.4695778 ,  1.73142269,\n",
              "       -1.63808225, -0.67171648, -0.14015625,  0.50828476,  0.60145966,\n",
              "       -0.34493194,  0.09632452, -0.85907492, -0.46924336,  1.22406872])"
            ]
          },
          "execution_count": 19,
          "metadata": {},
          "output_type": "execute_result"
        }
      ],
      "source": []
    },
    {
      "cell_type": "markdown",
      "metadata": {
        "id": "tbYvw45GOVs7"
      },
      "source": [
        "**Cree un arreglo de 20 elementos linealmente espaciados entre 0 y 1:**"
      ]
    },
    {
      "cell_type": "code",
      "execution_count": null,
      "metadata": {
        "id": "kVAFCenVOVs7"
      },
      "outputs": [],
      "source": [
        "# Copie su código aqui"
      ]
    },
    {
      "cell_type": "code",
      "execution_count": null,
      "metadata": {
        "id": "SzN55d-YOVs7",
        "outputId": "461f9c42-e63f-460a-bef0-2a0161c80e81"
      },
      "outputs": [
        {
          "data": {
            "text/plain": [
              "array([0.        , 0.05263158, 0.10526316, 0.15789474, 0.21052632,\n",
              "       0.26315789, 0.31578947, 0.36842105, 0.42105263, 0.47368421,\n",
              "       0.52631579, 0.57894737, 0.63157895, 0.68421053, 0.73684211,\n",
              "       0.78947368, 0.84210526, 0.89473684, 0.94736842, 1.        ])"
            ]
          },
          "execution_count": 21,
          "metadata": {},
          "output_type": "execute_result"
        }
      ],
      "source": []
    },
    {
      "cell_type": "markdown",
      "metadata": {
        "id": "zSAktM11OVs7"
      },
      "source": [
        "**Indexacion y seleccion con Numpy**\n",
        "\n",
        "Crear una matriz con numeros del 1 al 25 y que tenga forma de 5x5\n",
        "\n"
      ]
    },
    {
      "cell_type": "code",
      "execution_count": null,
      "metadata": {
        "id": "xO5gSb68OVs8"
      },
      "outputs": [],
      "source": [
        "# Copie su código aqui\n"
      ]
    },
    {
      "cell_type": "code",
      "execution_count": null,
      "metadata": {
        "id": "msksZYBLOVs8",
        "outputId": "c64496c1-a40a-43c2-ccaa-8d20200d4e45"
      },
      "outputs": [
        {
          "data": {
            "text/plain": [
              "array([[ 1,  2,  3,  4,  5],\n",
              "       [ 6,  7,  8,  9, 10],\n",
              "       [11, 12, 13, 14, 15],\n",
              "       [16, 17, 18, 19, 20],\n",
              "       [21, 22, 23, 24, 25]])"
            ]
          },
          "execution_count": 23,
          "metadata": {},
          "output_type": "execute_result"
        }
      ],
      "source": []
    },
    {
      "cell_type": "markdown",
      "metadata": {
        "id": "ycteyM1xOVs8"
      },
      "source": [
        "replique los resultados que siguen:\n"
      ]
    },
    {
      "cell_type": "code",
      "execution_count": null,
      "metadata": {
        "id": "QlFCqA1iOVtB"
      },
      "outputs": [],
      "source": [
        "# Copie su código aqui"
      ]
    },
    {
      "cell_type": "code",
      "execution_count": null,
      "metadata": {
        "collapsed": true,
        "id": "E9SJ612UOVtC",
        "outputId": "5e626cb2-0980-4742-9333-ef2c9c263b22"
      },
      "outputs": [
        {
          "data": {
            "text/plain": [
              "array([[12, 13, 14, 15],\n",
              "       [17, 18, 19, 20],\n",
              "       [22, 23, 24, 25]])"
            ]
          },
          "execution_count": 25,
          "metadata": {},
          "output_type": "execute_result"
        }
      ],
      "source": []
    },
    {
      "cell_type": "code",
      "execution_count": null,
      "metadata": {
        "id": "wktTo6p_OVtC"
      },
      "outputs": [],
      "source": [
        "# Copie su código aqui"
      ]
    },
    {
      "cell_type": "code",
      "execution_count": null,
      "metadata": {
        "collapsed": true,
        "id": "77c3MSgoOVtD",
        "outputId": "c98828b1-b87b-4639-e75e-7b34311d3e7d"
      },
      "outputs": [
        {
          "data": {
            "text/plain": [
              "20"
            ]
          },
          "execution_count": 27,
          "metadata": {},
          "output_type": "execute_result"
        }
      ],
      "source": []
    },
    {
      "cell_type": "code",
      "execution_count": null,
      "metadata": {
        "id": "2n_PEe3JOVtD"
      },
      "outputs": [],
      "source": [
        "# Copie su código aqui"
      ]
    },
    {
      "cell_type": "code",
      "execution_count": null,
      "metadata": {
        "collapsed": true,
        "id": "bNDOkpB7OVtD",
        "outputId": "6eef7cd2-654d-40b2-86a0-172b5e29bf4c"
      },
      "outputs": [
        {
          "data": {
            "text/plain": [
              "array([[ 2],\n",
              "       [ 7],\n",
              "       [12]])"
            ]
          },
          "execution_count": 29,
          "metadata": {},
          "output_type": "execute_result"
        }
      ],
      "source": []
    },
    {
      "cell_type": "code",
      "execution_count": null,
      "metadata": {
        "id": "bhembT9dOVtD"
      },
      "outputs": [],
      "source": [
        "# Copie su código aqui"
      ]
    },
    {
      "cell_type": "code",
      "execution_count": null,
      "metadata": {
        "collapsed": true,
        "id": "88cXuIGfOVtE",
        "outputId": "1931518d-2115-40e1-9d81-f4d900c632e2"
      },
      "outputs": [
        {
          "data": {
            "text/plain": [
              "array([21, 22, 23, 24, 25])"
            ]
          },
          "execution_count": 31,
          "metadata": {},
          "output_type": "execute_result"
        }
      ],
      "source": []
    },
    {
      "cell_type": "code",
      "execution_count": null,
      "metadata": {
        "id": "giTNb7ikOVtE"
      },
      "outputs": [],
      "source": [
        "# Copie su código aqui"
      ]
    },
    {
      "cell_type": "code",
      "execution_count": null,
      "metadata": {
        "collapsed": true,
        "id": "b2izXd7tOVtE",
        "outputId": "38538f7c-7962-4152-92e3-8adb1b3f5fe4"
      },
      "outputs": [
        {
          "data": {
            "text/plain": [
              "array([[16, 17, 18, 19, 20],\n",
              "       [21, 22, 23, 24, 25]])"
            ]
          },
          "execution_count": 33,
          "metadata": {},
          "output_type": "execute_result"
        }
      ],
      "source": []
    },
    {
      "cell_type": "markdown",
      "metadata": {
        "id": "ctOsk3-5OVtE"
      },
      "source": [
        "**Obtenga la suma de todos los valores de la matriz**"
      ]
    },
    {
      "cell_type": "code",
      "execution_count": null,
      "metadata": {
        "id": "Yu87lLlPOVtF"
      },
      "outputs": [],
      "source": [
        "# Copie su código aqui"
      ]
    },
    {
      "cell_type": "code",
      "execution_count": null,
      "metadata": {
        "id": "RsqRHTsCOVtF",
        "outputId": "efc4c962-2f76-41b4-fa1e-17609ef444a7"
      },
      "outputs": [
        {
          "data": {
            "text/plain": [
              "325"
            ]
          },
          "execution_count": 35,
          "metadata": {},
          "output_type": "execute_result"
        }
      ],
      "source": []
    },
    {
      "cell_type": "markdown",
      "metadata": {
        "id": "z5BWYKgEOVtF"
      },
      "source": [
        "**Obtenga la desviación estándar de los valores de la matriz**"
      ]
    },
    {
      "cell_type": "code",
      "execution_count": null,
      "metadata": {
        "id": "Zx6AvNPSOVtF"
      },
      "outputs": [],
      "source": [
        "# Copie su código aqui"
      ]
    },
    {
      "cell_type": "code",
      "execution_count": null,
      "metadata": {
        "id": "My_I9RB2OVtG",
        "outputId": "f99ba664-70d0-46c1-f9f0-af82b50e70b8"
      },
      "outputs": [
        {
          "data": {
            "text/plain": [
              "7.211102550927978"
            ]
          },
          "execution_count": 37,
          "metadata": {},
          "output_type": "execute_result"
        }
      ],
      "source": []
    },
    {
      "cell_type": "markdown",
      "metadata": {
        "id": "KLmV8fq-OVtG"
      },
      "source": [
        "**Obtener la suma de cada una de las columnas de la matriz**"
      ]
    },
    {
      "cell_type": "code",
      "execution_count": null,
      "metadata": {
        "id": "fh05FtUKOVtG"
      },
      "outputs": [],
      "source": [
        "# Copie su código aqui"
      ]
    },
    {
      "cell_type": "code",
      "execution_count": null,
      "metadata": {
        "id": "3cj2wdU_OVtG",
        "outputId": "f8bf5bed-c677-47d3-f1b3-062f0f930d75"
      },
      "outputs": [
        {
          "data": {
            "text/plain": [
              "array([55, 60, 65, 70, 75])"
            ]
          },
          "execution_count": 39,
          "metadata": {},
          "output_type": "execute_result"
        }
      ],
      "source": []
    },
    {
      "cell_type": "markdown",
      "metadata": {
        "id": "2-fMDpsBOVtG"
      },
      "source": [
        "## Referencia\n",
        "\n",
        "https://joserzapata.github.io/courses/python-ciencia-datos/numpy/"
      ]
    }
  ],
  "metadata": {
    "kernelspec": {
      "display_name": "Python 3",
      "language": "python",
      "name": "python3"
    },
    "language_info": {
      "codemirror_mode": {
        "name": "ipython",
        "version": 3
      },
      "file_extension": ".py",
      "mimetype": "text/x-python",
      "name": "python",
      "nbconvert_exporter": "python",
      "pygments_lexer": "ipython3",
      "version": "3.10.13"
    },
    "toc": {
      "base_numbering": 1,
      "nav_menu": {},
      "number_sections": true,
      "sideBar": true,
      "skip_h1_title": false,
      "title_cell": "Contenido",
      "title_sidebar": "Contenido",
      "toc_cell": true,
      "toc_position": {},
      "toc_section_display": true,
      "toc_window_display": false
    },
    "varInspector": {
      "cols": {
        "lenName": 16,
        "lenType": 16,
        "lenVar": 40
      },
      "kernels_config": {
        "python": {
          "delete_cmd_postfix": "",
          "delete_cmd_prefix": "del ",
          "library": "var_list.py",
          "varRefreshCmd": "print(var_dic_list())"
        },
        "r": {
          "delete_cmd_postfix": ") ",
          "delete_cmd_prefix": "rm(",
          "library": "var_list.r",
          "varRefreshCmd": "cat(var_dic_list()) "
        }
      },
      "types_to_exclude": [
        "module",
        "function",
        "builtin_function_or_method",
        "instance",
        "_Feature"
      ],
      "window_display": false
    },
    "colab": {
      "provenance": []
    }
  },
  "nbformat": 4,
  "nbformat_minor": 0
}