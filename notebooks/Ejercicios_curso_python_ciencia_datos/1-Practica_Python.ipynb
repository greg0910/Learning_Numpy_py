{
  "cells": [
    {
      "cell_type": "markdown",
      "metadata": {
        "id": "view-in-github",
        "colab_type": "text"
      },
      "source": [
        "<a href=\"https://colab.research.google.com/github/greg0910/Learning_Numpy_py/blob/main/notebooks/Ejercicios_curso_python_ciencia_datos/1-Practica_Python.ipynb\" target=\"_parent\"><img src=\"https://colab.research.google.com/assets/colab-badge.svg\" alt=\"Open In Colab\"/></a>"
      ]
    },
    {
      "cell_type": "markdown",
      "metadata": {
        "id": "0m1rcba82oPe"
      },
      "source": [
        "# [PRACTICA DE PYTHON](https://joserzapata.github.io/courses/python-ciencia-datos/python/)\n",
        "## [Curso Python para Ciencia de datos](https://joserzapata.github.io/courses/python-ciencia-datos/)\n",
        "### Por Jose R. Zapata - https://joserzapata.github.io/"
      ]
    },
    {
      "cell_type": "markdown",
      "metadata": {
        "id": "swrTp-YjiAQY"
      },
      "source": [
        "<div class=\"alert alert-success\">\n",
        "\n",
        "<b>NOTA:</b> Realizar Primero los ejercicios y luego revisar las soluciones propuestas.\n",
        "\n",
        "[Solucion Ejercicios Python - click para abrir](https://joserzapata.github.io/courses/python-ciencia-datos/python/1-practica_python-solucion/)\n",
        "\n",
        "</div>"
      ]
    },
    {
      "cell_type": "markdown",
      "metadata": {
        "id": "qDEj_c6k2oPf"
      },
      "source": [
        "**Ejercicios**\n",
        "\n",
        "Responda las preguntas o complete las tareas que se detallan en negrita a continuación, use el método específico descrito, si corresponde."
      ]
    },
    {
      "cell_type": "markdown",
      "metadata": {
        "id": "CCg66PLy2oPg"
      },
      "source": [
        "**Cuanto es 43*28?**"
      ]
    },
    {
      "cell_type": "code",
      "execution_count": 5,
      "metadata": {
        "id": "tQOWEcm353sh"
      },
      "outputs": [],
      "source": [
        "# Copie su código aca\n",
        "\n"
      ]
    },
    {
      "cell_type": "code",
      "execution_count": 6,
      "metadata": {
        "colab": {
          "base_uri": "https://localhost:8080/"
        },
        "id": "Yc-16ozPbGti",
        "outputId": "7269ccaf-4449-4373-a466-50dfc2c948de"
      },
      "outputs": [
        {
          "output_type": "stream",
          "name": "stdout",
          "text": [
            "1204\n"
          ]
        }
      ],
      "source": [
        "print(43*28)"
      ]
    },
    {
      "cell_type": "markdown",
      "metadata": {
        "id": "aEaEZENK2oPn"
      },
      "source": [
        "**Cuanto es $7^4$?**"
      ]
    },
    {
      "cell_type": "code",
      "execution_count": null,
      "metadata": {
        "id": "Qefaa4MBbHkN"
      },
      "outputs": [],
      "source": [
        "# Copie su código aca\n"
      ]
    },
    {
      "cell_type": "code",
      "execution_count": 7,
      "metadata": {
        "colab": {
          "base_uri": "https://localhost:8080/"
        },
        "id": "Xe4wD5AG2oPo",
        "outputId": "4506e06e-77e3-4370-875d-c14a6e55ffc8"
      },
      "outputs": [
        {
          "output_type": "stream",
          "name": "stdout",
          "text": [
            "2401\n"
          ]
        }
      ],
      "source": [
        "print(7**4)"
      ]
    },
    {
      "cell_type": "markdown",
      "metadata": {
        "id": "i-1JI-Ch2oPr"
      },
      "source": [
        "**Divida esta cadena de caracteres:**\n",
        "\n",
        "    s = \"Hola Estoy feliz aprendiendo python!\"\n",
        "    \n",
        "**y conviertalo en una lista**"
      ]
    },
    {
      "cell_type": "code",
      "execution_count": null,
      "metadata": {
        "id": "vLkA5MCbbIkj"
      },
      "outputs": [],
      "source": [
        "# Copie su código aca\n"
      ]
    },
    {
      "cell_type": "code",
      "execution_count": 11,
      "metadata": {
        "colab": {
          "base_uri": "https://localhost:8080/"
        },
        "id": "vQJSpy9i2oPs",
        "outputId": "785b5594-b6ce-4313-b0f9-19bd6b421f4b"
      },
      "outputs": [
        {
          "output_type": "stream",
          "name": "stdout",
          "text": [
            "['Hola', 'Estoy', 'feliz', 'aprendiendo', 'python!']\n"
          ]
        }
      ],
      "source": [
        "s = \"Hola Estoy feliz aprendiendo python!\"\n",
        "print(s.split())"
      ]
    },
    {
      "cell_type": "markdown",
      "metadata": {
        "id": "Y1O1W6vo2oPw"
      },
      "source": [
        "**Dadas las siguientes variables:**\n",
        "\n",
        "    planeta = \"Tierra\"\n",
        "    diametro = 12742\n",
        "\n",
        "**Use f-strings para imprimir lo siguiente:**\n",
        "\n",
        "\n",
        "    El diametro de la Tierra es de 12742 kilometros."
      ]
    },
    {
      "cell_type": "code",
      "execution_count": 12,
      "metadata": {
        "id": "Ym7GCB3O2oPx"
      },
      "outputs": [],
      "source": [
        "planeta = \"Tierra\"\n",
        "diametro = 12742"
      ]
    },
    {
      "cell_type": "code",
      "execution_count": null,
      "metadata": {
        "id": "obPc5frW6HZr"
      },
      "outputs": [],
      "source": [
        "# Copie su código aca\n"
      ]
    },
    {
      "cell_type": "code",
      "execution_count": 13,
      "metadata": {
        "colab": {
          "base_uri": "https://localhost:8080/"
        },
        "id": "XHmN9MI12oP0",
        "outputId": "bc09aef6-f899-430c-ee9e-d1bba523a863"
      },
      "outputs": [
        {
          "output_type": "stream",
          "name": "stdout",
          "text": [
            "El diametro de la Tierra es de 12742 kilometros.\n"
          ]
        }
      ],
      "source": [
        "print(f\"El diametro de la {planeta} es de {diametro} kilometros.\")"
      ]
    },
    {
      "cell_type": "markdown",
      "metadata": {
        "id": "S2N_gH8S2oP3"
      },
      "source": [
        "**Dada la siguiente lista con muchos elementos, use la indexacion para extraer la palabra \"hello\"**"
      ]
    },
    {
      "cell_type": "code",
      "execution_count": 25,
      "metadata": {
        "id": "jfWj5_OY2oP4"
      },
      "outputs": [],
      "source": [
        "lst = [1, 2, [3, 4], [5, [100, 200, [\"hello\"]], 23, 11], 1, 7]"
      ]
    },
    {
      "cell_type": "code",
      "execution_count": 26,
      "metadata": {
        "colab": {
          "base_uri": "https://localhost:8080/"
        },
        "id": "5JtntosubJxb",
        "outputId": "755781d1-8342-4b2b-ee72-166001abe24d"
      },
      "outputs": [
        {
          "output_type": "stream",
          "name": "stdout",
          "text": [
            "hello\n"
          ]
        }
      ],
      "source": [
        "# Copie su código aca\n",
        "lista = lst[3][1][2][0]\n",
        "print(lista)\n"
      ]
    },
    {
      "cell_type": "markdown",
      "metadata": {
        "id": "vmO3QzVE2oQB"
      },
      "source": [
        "**Dado el siguiente diccionario extraiga la palabra \"hello\". Este puede ser un poco truculento**"
      ]
    },
    {
      "cell_type": "code",
      "execution_count": 1,
      "metadata": {
        "id": "hDaZrl5a2oQC"
      },
      "outputs": [],
      "source": [
        "d = {\n",
        "    \"ID1\": [\n",
        "        1,\n",
        "        2,\n",
        "        3,\n",
        "        {\"truco\": [\"oh\", \"por\", \"Dios\", \"En serio\", {\"target\": [1, 2, 3, \"hello\"]}]},\n",
        "    ]\n",
        "}"
      ]
    },
    {
      "cell_type": "code",
      "execution_count": null,
      "metadata": {
        "id": "u_IGWwu7bKmw"
      },
      "outputs": [],
      "source": [
        "# Copie su código aca\n"
      ]
    },
    {
      "cell_type": "code",
      "execution_count": 4,
      "metadata": {
        "colab": {
          "base_uri": "https://localhost:8080/"
        },
        "id": "pY9Cg0rO2oQG",
        "outputId": "bf55916b-af4d-4d86-d16d-f04ad1405b79"
      },
      "outputs": [
        {
          "output_type": "stream",
          "name": "stdout",
          "text": [
            "hello\n"
          ]
        }
      ],
      "source": [
        "dict= d[\"ID1\"][3][\"truco\"][4][\"target\"][3]\n",
        "print(dict)"
      ]
    },
    {
      "cell_type": "markdown",
      "metadata": {
        "id": "Ww0TSfVp2oQK"
      },
      "source": [
        "**Cual es la diferencia principal entre una tupla y una lista?**"
      ]
    },
    {
      "cell_type": "code",
      "execution_count": null,
      "metadata": {
        "id": "hfh9YrPu2oQM"
      },
      "outputs": [],
      "source": [
        "# La tupla es inmutable"
      ]
    },
    {
      "cell_type": "markdown",
      "metadata": {
        "id": "SMKDLfxy2oQO"
      },
      "source": []
    },
    {
      "cell_type": "markdown",
      "metadata": {
        "id": "adS1ByOx2oQP"
      },
      "source": [
        "**Agregar el nombre Jose al final de la siguiente lista**\n",
        "\n",
        "[\"Alvaro\", \"Jacinto\", \"Miguel\", \"Edgardo\", \"David\"]"
      ]
    },
    {
      "cell_type": "code",
      "execution_count": null,
      "metadata": {
        "id": "c6haklOziASM"
      },
      "outputs": [],
      "source": [
        "# Copie su código aca"
      ]
    },
    {
      "cell_type": "code",
      "execution_count": 28,
      "metadata": {
        "colab": {
          "base_uri": "https://localhost:8080/"
        },
        "id": "lNwpP9vv2oQP",
        "outputId": "14ae93ab-1ffd-478b-b705-c867fda5ee88"
      },
      "outputs": [
        {
          "output_type": "stream",
          "name": "stdout",
          "text": [
            "['Alvaro', 'Jacinto', 'Miguel', 'Edgardo', 'David', 'Jose']\n"
          ]
        }
      ],
      "source": [
        "lista=[\"Alvaro\", \"Jacinto\", \"Miguel\", \"Edgardo\", \"David\"]\n",
        "lista.append(\"Jose\")\n",
        "print(lista)"
      ]
    },
    {
      "cell_type": "markdown",
      "metadata": {
        "id": "nRtyETSF2oQX"
      },
      "source": [
        "**Cuente Cuantas veces esta el nombre Miguel de la siguiente lista**\n",
        "\n",
        "[\"Alvaro\", \"Miguel\", \"Edgardo\", \"David\", \"Miguel\"]"
      ]
    },
    {
      "cell_type": "code",
      "execution_count": null,
      "metadata": {
        "id": "81W-x6LH2oQZ"
      },
      "outputs": [],
      "source": [
        "# Copie su código aca\n",
        "\n"
      ]
    },
    {
      "cell_type": "code",
      "execution_count": 30,
      "metadata": {
        "colab": {
          "base_uri": "https://localhost:8080/"
        },
        "id": "QG8yczM22oQc",
        "outputId": "e22b86e4-5917-4e09-c08d-af0cbc9b6cf4"
      },
      "outputs": [
        {
          "output_type": "execute_result",
          "data": {
            "text/plain": [
              "2"
            ]
          },
          "metadata": {},
          "execution_count": 30
        }
      ],
      "source": [
        "lista=[\"Alvaro\", \"Miguel\", \"Edgardo\", \"David\", \"Miguel\"]\n",
        "lista.count(\"Miguel\")"
      ]
    },
    {
      "cell_type": "markdown",
      "metadata": {
        "id": "hbjBiOGs2oQf"
      },
      "source": [
        "**Convierta la siguiente palabra en letras minusculas:**\n",
        "\n",
        "Soy FeliZ APREndienDo PYTHon pAra PROceSar DaTos"
      ]
    },
    {
      "cell_type": "code",
      "execution_count": null,
      "metadata": {
        "id": "PSBAuuNl2oQi"
      },
      "outputs": [],
      "source": [
        "# Copie su código aca"
      ]
    },
    {
      "cell_type": "code",
      "execution_count": 31,
      "metadata": {
        "colab": {
          "base_uri": "https://localhost:8080/",
          "height": 36
        },
        "id": "V4QoTky12oQg",
        "outputId": "8205dc00-f781-4b07-8b26-3ab8d0767c8b"
      },
      "outputs": [
        {
          "output_type": "execute_result",
          "data": {
            "text/plain": [
              "'soy feliz aprendiendo python para procesar datos'"
            ],
            "application/vnd.google.colaboratory.intrinsic+json": {
              "type": "string"
            }
          },
          "metadata": {},
          "execution_count": 31
        }
      ],
      "source": [
        "palabra=\"Soy FeliZ APREndienDo PYTHon pAra PROceSar DaTos\"\n",
        "palabra.lower()"
      ]
    },
    {
      "cell_type": "markdown",
      "metadata": {
        "id": "cJVcOvOA2oQm"
      },
      "source": [
        "**los siguientes números cambie la coma por un punto**\n",
        "\n",
        "'17656734,87'"
      ]
    },
    {
      "cell_type": "code",
      "execution_count": null,
      "metadata": {
        "id": "UA7-AkiwiASn"
      },
      "outputs": [],
      "source": [
        "# Copie su código aca"
      ]
    },
    {
      "cell_type": "code",
      "execution_count": 32,
      "metadata": {
        "colab": {
          "base_uri": "https://localhost:8080/",
          "height": 36
        },
        "id": "nHg9CvmD2oQn",
        "outputId": "139c188c-547d-4abf-b838-c8a675f1d0b9"
      },
      "outputs": [
        {
          "output_type": "execute_result",
          "data": {
            "text/plain": [
              "'17656734.87'"
            ],
            "application/vnd.google.colaboratory.intrinsic+json": {
              "type": "string"
            }
          },
          "metadata": {},
          "execution_count": 32
        }
      ],
      "source": [
        "num='17656734,87'\n",
        "num.replace(\",\",\".\")"
      ]
    },
    {
      "cell_type": "markdown",
      "metadata": {
        "id": "gFBTXT032oQs"
      },
      "source": [
        "**Cree una función llamada `domainGet` que capture el dominio del sitio web de correo electrónico a partir de una cadena con el siguiente formato:**\n",
        "\n",
        "    user@domain.com\n",
        "    \n",
        "**Por ejemplo, Con el siguiente argumento \"juan_perez@correo.com\" la función retornara: correo.com**"
      ]
    },
    {
      "cell_type": "code",
      "execution_count": 33,
      "metadata": {
        "id": "mRMjLhh92oQt"
      },
      "outputs": [],
      "source": [
        "# Copie su código aca\n",
        "def domainGet(correo):\n",
        "    return correo.split(\"@\")[1]"
      ]
    },
    {
      "cell_type": "code",
      "execution_count": 34,
      "metadata": {
        "colab": {
          "base_uri": "https://localhost:8080/",
          "height": 36
        },
        "id": "w-iXGCUM2oQw",
        "outputId": "a4a3b099-1e98-487e-e82b-6c6d5640ffcd"
      },
      "outputs": [
        {
          "output_type": "execute_result",
          "data": {
            "text/plain": [
              "'correo.com'"
            ],
            "application/vnd.google.colaboratory.intrinsic+json": {
              "type": "string"
            }
          },
          "metadata": {},
          "execution_count": 34
        }
      ],
      "source": [
        "domainGet(\"juan_perez@correo.com\")  # noqa"
      ]
    },
    {
      "cell_type": "markdown",
      "metadata": {
        "id": "8opTy2Wp2oQz"
      },
      "source": [
        "**Cree una función básica llamada buscar `palabra_promedio` que devuelva True si la palabra 'promedio' o 'Promedio' o 'PROMEDIO' está contenida en string de entrada. No se preocupe por los casos extremos como una puntuación que se adjunta a la palabra promedio, pero tenga en cuenta las mayúsculas.**"
      ]
    },
    {
      "cell_type": "code",
      "execution_count": 35,
      "metadata": {
        "id": "iVLFNjbx2oQ0"
      },
      "outputs": [],
      "source": [
        "# Copie su código aca\n",
        "def palabra_promedio(cadena):\n",
        "    return \"promedio\" in cadena.lower()"
      ]
    },
    {
      "cell_type": "code",
      "execution_count": 36,
      "metadata": {
        "colab": {
          "base_uri": "https://localhost:8080/"
        },
        "id": "u-VvSCrX2oQ2",
        "outputId": "45b0711c-ad8f-408d-a275-7247e7253fbe"
      },
      "outputs": [
        {
          "output_type": "execute_result",
          "data": {
            "text/plain": [
              "True"
            ]
          },
          "metadata": {},
          "execution_count": 36
        }
      ],
      "source": [
        "palabra_promedio(\"El Promedio de la clase es de 4.3\")  # noqa"
      ]
    },
    {
      "cell_type": "markdown",
      "metadata": {
        "id": "O9o5r5jG2oQ7"
      },
      "source": [
        "**Crea una función llamada contar_python que cuente la cantidad de veces que aparece la palabra \"python\" en una cadena. Nuevamente ignore los casos extremos.**"
      ]
    },
    {
      "cell_type": "code",
      "execution_count": 37,
      "metadata": {
        "id": "LNagBoK-iATe"
      },
      "outputs": [],
      "source": [
        "# Copie su código aca\n",
        "def contar_python(cadena):\n",
        "    return cadena.lower().count(\"python\")"
      ]
    },
    {
      "cell_type": "code",
      "execution_count": 38,
      "metadata": {
        "colab": {
          "base_uri": "https://localhost:8080/"
        },
        "id": "t_Tt71pM2oQ9",
        "outputId": "3f1bd832-9c48-47be-c36c-da2dbfdcedac"
      },
      "outputs": [
        {
          "output_type": "execute_result",
          "data": {
            "text/plain": [
              "2"
            ]
          },
          "metadata": {},
          "execution_count": 38
        }
      ],
      "source": [
        "contar_python(\"Python es un lenguaje de programacion, Python es divertido\")  # noqa"
      ]
    },
    {
      "cell_type": "markdown",
      "metadata": {
        "id": "U6gt0Pxp2oRI"
      },
      "source": [
        "**Problema final**\n",
        "\n",
        "Un científico de datos está trabajando en un proyecto para desarrollar una función para detectar anomalías (outliers) extremas en un conjunto de datos de valores positivos. La función debe ser capaz de determinar si un dato es: normal, anormal o indeterminado en función de su valor y su desviación estándar.\n",
        "\n",
        "La función `deteccion_anomalias` tiene las siguientes reglas:\n",
        "1. Tiene que recibir como argumentos tres números y un boolean:\n",
        "   - El valor del dato (float)\n",
        "   - La media (float)\n",
        "   - La desviación estándar (float)\n",
        "   - Si el tipo de distribución es normal (bool).\n",
        "2. Si la distribuccion en normal y Si el valor del dato es mayor a la media mas 3 veces la desviación estándar, la función debe retornar \"anormal\".\n",
        "3. Si la distribuccion en normal y Si el valor del dato es menor a la media menos 3 veces la desviación estándar, la función debe retornar \"normal\".\n",
        "4. En los casos contrarios a los anteriores debe retornar \"indeterminado\".\n",
        "\n"
      ]
    },
    {
      "cell_type": "code",
      "execution_count": 69,
      "metadata": {
        "id": "faLoCLlwiATi"
      },
      "outputs": [],
      "source": [
        "# Copie su código aca\n",
        "def deteccion_anomalia(valor, valor_media, desviacion_estandar, distribucion_normal):\n",
        "    if distribucion_normal:\n",
        "        if valor > valor_media + 3 * desviacion_estandar:\n",
        "            return \"normal\"\n",
        "        elif valor < valor_media - 3 * desviacion_estandar:\n",
        "            return \"anormal\"\n",
        "        else:\n",
        "            return \"normal\"\n",
        "    else:\n",
        "        return \"indeterminado\""
      ]
    },
    {
      "cell_type": "code",
      "execution_count": 70,
      "metadata": {
        "colab": {
          "base_uri": "https://localhost:8080/",
          "height": 36
        },
        "id": "oDrImTvx6om6",
        "outputId": "e5871db2-d5c7-4ae0-83e5-198a256d6898"
      },
      "outputs": [
        {
          "output_type": "execute_result",
          "data": {
            "text/plain": [
              "'normal'"
            ],
            "application/vnd.google.colaboratory.intrinsic+json": {
              "type": "string"
            }
          },
          "metadata": {},
          "execution_count": 70
        }
      ],
      "source": [
        "deteccion_anomalia(\n",
        "    valor=15.6, valor_media=9.5, desviacion_estandar=8.7, distribucion_normal=True\n",
        ")\n"
      ]
    },
    {
      "cell_type": "code",
      "execution_count": 64,
      "metadata": {
        "id": "XKRYyC-iiATl",
        "outputId": "05e7c945-064e-4b96-80cc-3db470797218",
        "colab": {
          "base_uri": "https://localhost:8080/",
          "height": 36
        }
      },
      "outputs": [
        {
          "output_type": "execute_result",
          "data": {
            "text/plain": [
              "'anormal'"
            ],
            "application/vnd.google.colaboratory.intrinsic+json": {
              "type": "string"
            }
          },
          "metadata": {},
          "execution_count": 64
        }
      ],
      "source": [
        "deteccion_anomalia(  # noqa\n",
        "    valor=45.4, valor_media=9.5, desviacion_estandar=8.7, distribucion_normal=True\n",
        ")"
      ]
    },
    {
      "cell_type": "code",
      "execution_count": 65,
      "metadata": {
        "colab": {
          "base_uri": "https://localhost:8080/",
          "height": 36
        },
        "id": "9zV3oJSk6s7A",
        "outputId": "61e8cf64-0a06-4c67-b831-3246991987a0"
      },
      "outputs": [
        {
          "output_type": "execute_result",
          "data": {
            "text/plain": [
              "'indeterminado'"
            ],
            "application/vnd.google.colaboratory.intrinsic+json": {
              "type": "string"
            }
          },
          "metadata": {},
          "execution_count": 65
        }
      ],
      "source": [
        "deteccion_anomalia(  # noqa\n",
        "    valor=15.6, valor_media=9.5, desviacion_estandar=8.7, distribucion_normal=False\n",
        ")"
      ]
    },
    {
      "cell_type": "markdown",
      "metadata": {
        "id": "UxPjenItiATu"
      },
      "source": [
        "## Referencia\n",
        "\n",
        "https://joserzapata.github.io/courses/python-ciencia-datos/python/"
      ]
    }
  ],
  "metadata": {
    "colab": {
      "name": "1-Practica_Python.ipynb",
      "provenance": [],
      "include_colab_link": true
    },
    "kernelspec": {
      "display_name": "Python 3",
      "language": "python",
      "name": "python3"
    },
    "language_info": {
      "codemirror_mode": {
        "name": "ipython",
        "version": 3
      },
      "file_extension": ".py",
      "mimetype": "text/x-python",
      "name": "python",
      "nbconvert_exporter": "python",
      "pygments_lexer": "ipython3",
      "version": "3.10.13"
    },
    "toc": {
      "base_numbering": 1,
      "nav_menu": {},
      "number_sections": true,
      "sideBar": true,
      "skip_h1_title": false,
      "title_cell": "Table of Contents",
      "title_sidebar": "Contents",
      "toc_cell": false,
      "toc_position": {},
      "toc_section_display": true,
      "toc_window_display": false
    },
    "varInspector": {
      "cols": {
        "lenName": 16,
        "lenType": 16,
        "lenVar": 40
      },
      "kernels_config": {
        "python": {
          "delete_cmd_postfix": "",
          "delete_cmd_prefix": "del ",
          "library": "var_list.py",
          "varRefreshCmd": "print(var_dic_list())"
        },
        "r": {
          "delete_cmd_postfix": ") ",
          "delete_cmd_prefix": "rm(",
          "library": "var_list.r",
          "varRefreshCmd": "cat(var_dic_list()) "
        }
      },
      "types_to_exclude": [
        "module",
        "function",
        "builtin_function_or_method",
        "instance",
        "_Feature"
      ],
      "window_display": false
    }
  },
  "nbformat": 4,
  "nbformat_minor": 0
}